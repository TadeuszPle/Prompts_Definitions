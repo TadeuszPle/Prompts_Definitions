{
 "cells": [
  {
   "cell_type": "code",
   "execution_count": 1,
   "metadata": {},
   "outputs": [],
   "source": [
    "import utils_graph as ug\n",
    "import networkx as nx\n",
    "import os\n",
    "import openai\n",
    "openai.api_key = os.environ[\"OPENAI_KEY\"]"
   ]
  },
  {
   "cell_type": "code",
   "execution_count": 2,
   "metadata": {},
   "outputs": [],
   "source": [
    "senses = ug.get_senses()\n",
    "definitions = ug.get_definitions()\n",
    "G = nx.MultiDiGraph()\n",
    "ug.populate_graph(G, senses)"
   ]
  },
  {
   "cell_type": "code",
   "execution_count": 3,
   "metadata": {},
   "outputs": [
    {
     "name": "stdout",
     "output_type": "stream",
     "text": [
      "Adjective: pracowity.2.a\n",
      "Adverb: pretensjonalnie.3.r\n",
      "Noun: zjeżanie_się.1.n\n",
      "Verb: tupotać.1.v\n",
      "\n",
      "\n"
     ]
    },
    {
     "ename": "TypeError",
     "evalue": "generate_prompt() takes 3 positional arguments but 4 were given",
     "output_type": "error",
     "traceback": [
      "\u001b[0;31m---------------------------------------------------------------------------\u001b[0m",
      "\u001b[0;31mTypeError\u001b[0m                                 Traceback (most recent call last)",
      "\u001b[1;32m/data3/tplesniak/wsd-generative/app/scratch/example_prompts_and_responses.ipynb Cell 3\u001b[0m line \u001b[0;36m2\n\u001b[1;32m     <a href='vscode-notebook-cell://ssh-remote%2B10.9.0.206/data3/tplesniak/wsd-generative/app/scratch/example_prompts_and_responses.ipynb#W2sdnNjb2RlLXJlbW90ZQ%3D%3D?line=21'>22</a>\u001b[0m \u001b[39mprint\u001b[39m(\u001b[39mf\u001b[39m\u001b[39m\"\u001b[39m\u001b[39mVerb: \u001b[39m\u001b[39m{\u001b[39;00mverb\u001b[39m}\u001b[39;00m\u001b[39m\"\u001b[39m)\n\u001b[1;32m     <a href='vscode-notebook-cell://ssh-remote%2B10.9.0.206/data3/tplesniak/wsd-generative/app/scratch/example_prompts_and_responses.ipynb#W2sdnNjb2RlLXJlbW90ZQ%3D%3D?line=22'>23</a>\u001b[0m \u001b[39mprint\u001b[39m(\u001b[39m'\u001b[39m\u001b[39m\\n\u001b[39;00m\u001b[39m'\u001b[39m)\n\u001b[0;32m---> <a href='vscode-notebook-cell://ssh-remote%2B10.9.0.206/data3/tplesniak/wsd-generative/app/scratch/example_prompts_and_responses.ipynb#W2sdnNjb2RlLXJlbW90ZQ%3D%3D?line=24'>25</a>\u001b[0m verb_prompt \u001b[39m=\u001b[39m ug\u001b[39m.\u001b[39;49mgenerate_prompt(verb, G, senses, definitions)\n\u001b[1;32m     <a href='vscode-notebook-cell://ssh-remote%2B10.9.0.206/data3/tplesniak/wsd-generative/app/scratch/example_prompts_and_responses.ipynb#W2sdnNjb2RlLXJlbW90ZQ%3D%3D?line=25'>26</a>\u001b[0m \u001b[39mprint\u001b[39m(\u001b[39mf\u001b[39m\u001b[39m\"\u001b[39m\u001b[39mPrompt for verb \u001b[39m\u001b[39m'\u001b[39m\u001b[39m{\u001b[39;00mverb\u001b[39m}\u001b[39;00m\u001b[39m'\u001b[39m\u001b[39m:\u001b[39m\u001b[39m\\n\u001b[39;00m\u001b[39m{\u001b[39;00mverb_prompt\u001b[39m}\u001b[39;00m\u001b[39m\"\u001b[39m)\n\u001b[1;32m     <a href='vscode-notebook-cell://ssh-remote%2B10.9.0.206/data3/tplesniak/wsd-generative/app/scratch/example_prompts_and_responses.ipynb#W2sdnNjb2RlLXJlbW90ZQ%3D%3D?line=27'>28</a>\u001b[0m noun_prompt \u001b[39m=\u001b[39m ug\u001b[39m.\u001b[39mgenerate_prompt(noun, G, senses, definitions)\n",
      "\u001b[0;31mTypeError\u001b[0m: generate_prompt() takes 3 positional arguments but 4 were given"
     ]
    }
   ],
   "source": [
    "import random\n",
    "\n",
    "def get_4_words(G: nx.Graph):\n",
    "    # filter nodes by part of speech\n",
    "    adjectives = [n for n in G.nodes() if n.endswith('.a')]\n",
    "    adverbs = [n for n in G.nodes() if n.endswith('.r')]\n",
    "    nouns = [n for n in G.nodes() if n.endswith('.n')]\n",
    "    verbs = [n for n in G.nodes() if n.endswith('.v')]\n",
    "\n",
    "    # randomly select one node from each part of speech\n",
    "    adj = random.choice(adjectives)\n",
    "    adv = random.choice(adverbs)\n",
    "    noun = random.choice(nouns)\n",
    "    verb = random.choice(verbs)\n",
    "    return adj, adv, noun, verb\n",
    "\n",
    "adj, adv, noun, verb = get_4_words(G)\n",
    "# print the selected nodes\n",
    "print(f\"Adjective: {adj}\")\n",
    "print(f\"Adverb: {adv}\")\n",
    "print(f\"Noun: {noun}\")\n",
    "print(f\"Verb: {verb}\")\n",
    "print('\\n')\n",
    "\n",
    "verb_prompt = ug.generate_prompt(verb, G, definitions)\n",
    "print(f\"Prompt for verb '{verb}':\\n{verb_prompt}\")\n",
    "\n",
    "noun_prompt = ug.generate_prompt(noun, G, definitions)\n",
    "print(f\"Prompt for noun '{noun}':\\n{noun_prompt}\")\n",
    "\n",
    "adj_prompt = ug.generate_prompt(adj, G, definitions)\n",
    "print(f\"Prompt for adjective '{adj}':\\n{adj_prompt}\")\n",
    "\n",
    "adv_prompt = ug.generate_prompt(adv, G, definitions)\n",
    "print(f\"Prompt for adverb '{adv}':\\n{adv_prompt}\")\n"
   ]
  },
  {
   "cell_type": "markdown",
   "metadata": {},
   "source": [
    "Adjective: znakarski.1.a\n",
    "<br>\n",
    "Adverb: chińsko.2.r\n",
    "<br>\n",
    "Noun: palladianizm.1.n\n",
    "<br>\n",
    "Verb: poskutkować.2.v\n",
    "<br>\n",
    "\n",
    "<br>\n",
    "\"Chińsko\": W kontekście innej dziedziny lub kultury, związany z Chinami, odnoszący się do chińskiego pochodzenia, stylu lub wpływów z Chin.\n",
    "<BR>\n",
    "Palladianizm: Kierunek w architekturze, charakteryzujący się stylem związanym z palladianizmem, szczególnie w budowlach zgodnych z tym stylem i zasadami architektonicznymi Andrea Palladio.\n",
    "<BR>\n",
    "Poskutkować: Wywołać jakiś skutek lub rezultat; przynieść oczekiwane efekty lub rezultaty, często w kontekście osiągnięcia pozytywnych rezultatów."
   ]
  },
  {
   "cell_type": "markdown",
   "metadata": {},
   "source": []
  },
  {
   "cell_type": "markdown",
   "metadata": {},
   "source": [
    "prompts = [verb_prompt, noun_prompt, adj_prompt, adv_prompt]\n",
    "responses = [openai.ChatCompletion.create(\n",
    "        model=\"gpt-3.5-turbo\", \n",
    "        messages=[{\"role\": \"user\", \"content\": prompt}]) \n",
    "        for prompt in prompts]\n"
   ]
  },
  {
   "cell_type": "markdown",
   "metadata": {},
   "source": [
    "for r in responses:\n",
    "    print(r.choices[0].message.content)\n",
    "    print('\\n')"
   ]
  }
 ],
 "metadata": {
  "kernelspec": {
   "display_name": "wsd",
   "language": "python",
   "name": "python3"
  },
  "language_info": {
   "codemirror_mode": {
    "name": "ipython",
    "version": 3
   },
   "file_extension": ".py",
   "mimetype": "text/x-python",
   "name": "python",
   "nbconvert_exporter": "python",
   "pygments_lexer": "ipython3",
   "version": "3.10.13"
  }
 },
 "nbformat": 4,
 "nbformat_minor": 2
}
